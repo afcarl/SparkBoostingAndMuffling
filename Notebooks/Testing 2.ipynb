{
 "cells": [
  {
   "cell_type": "code",
   "execution_count": 1,
   "metadata": {
    "collapsed": false
   },
   "outputs": [
    {
     "name": "stdout",
     "output_type": "stream",
     "text": [
      "Populating the interactive namespace from numpy and matplotlib\n"
     ]
    }
   ],
   "source": [
    "from pyspark.mllib.linalg import Vectors\n",
    "from pyspark.mllib.regression import LabeledPoint\n",
    "\n",
    "from pyspark.mllib.tree import GradientBoostedTrees, GradientBoostedTreesModel\n",
    "from pyspark.mllib.tree import RandomForest, RandomForestModel\n",
    "\n",
    "from pyspark.mllib.util import MLUtils\n",
    "\n",
    "%pylab inline\n",
    "\n",
    "import numpy as np\n",
    "from time import time\n",
    "\n",
    "import sys,os\n",
    "sys.path.insert(0, os.path.abspath('../src'))\n",
    "\n",
    "from BoostStumps import *"
   ]
  },
  {
   "cell_type": "code",
   "execution_count": 2,
   "metadata": {
    "collapsed": false
   },
   "outputs": [
    {
     "name": "stdout",
     "output_type": "stream",
     "text": [
      "0  0  0  0  0  0  0  0  1  0 \n",
      "0  0  0  0  0  0  0  0  1  0 \n",
      "0  0  0  0  1  1  0  1  0  0 \n",
      "0  0  0  1  1  1  1  1  1  0 \n",
      "0  0  0  0  1  1  1  1  1  0 \n",
      "0  0  0  0  1  1  1  0  1  0 \n",
      "0  0  1  0  1  0  1  1  0  0 \n",
      "0  0  0  0  0  1  0  0  0  0 \n",
      "0  0  0  0  0  0  0  0  0  0 \n",
      "0  0  0  0  0  0  0  0  0  0 \n"
     ]
    }
   ],
   "source": [
    "from pyspark import SparkContext\n",
    "\n",
    "#sc=SparkContext()\n",
    "\n",
    "from numpy.random import rand\n",
    "p=0.9\n",
    "data=[]\n",
    "for i in range(10):\n",
    "    for j in range(10):\n",
    "        if np.abs(i-4)<3 and np.abs(j-6)<3:\n",
    "            y=2*(rand()<p)-1\n",
    "        else:\n",
    "            y=2*(rand()>p)-1\n",
    "        print \"%1.0f \"%((1+y)/2),\n",
    "        data.append(LabeledPoint(y,[i,j]))\n",
    "    print"
   ]
  },
  {
   "cell_type": "code",
   "execution_count": 3,
   "metadata": {
    "collapsed": false
   },
   "outputs": [
    {
     "data": {
      "text/plain": [
       "2"
      ]
     },
     "execution_count": 3,
     "metadata": {},
     "output_type": "execute_result"
    }
   ],
   "source": [
    "dataRDD=sc.parallelize(data,numSlices=2)\n",
    "dataRDD.getNumPartitions()"
   ]
  },
  {
   "cell_type": "code",
   "execution_count": 4,
   "metadata": {
    "collapsed": false
   },
   "outputs": [
    {
     "data": {
      "text/plain": [
       "<pyspark.context.SparkContext at 0x106debdd0>"
      ]
     },
     "execution_count": 4,
     "metadata": {},
     "output_type": "execute_result"
    }
   ],
   "source": [
    "sc"
   ]
  },
  {
   "cell_type": "code",
   "execution_count": 5,
   "metadata": {
    "collapsed": false
   },
   "outputs": [
    {
     "name": "stdout",
     "output_type": "stream",
     "text": [
      "number of features= 2 number of partitions= 2\n",
      "Sizes: Data1=100, trainingData=69, testData=31\n",
      "number of elements in GR= 2\n",
      "number of elements in GTR= 2\n",
      "number of partitions in PS= 2\n"
     ]
    }
   ],
   "source": [
    "booster=Booster(sc,dataRDD)"
   ]
  },
  {
   "cell_type": "code",
   "execution_count": 6,
   "metadata": {
    "collapsed": false
   },
   "outputs": [
    {
     "name": "stdout",
     "output_type": "stream",
     "text": [
      "  1.16 : Split into train and test\n",
      "  0.00 : glom\n",
      "  0.00 : add partition index\n",
      "  0.14 : Prepare_partition_data_structure\n",
      "  0.04 : Compute Split points\n",
      "  0.08 : Add_weak_learner_matrix\n",
      "  0.00 : Finished Initialization\n"
     ]
    }
   ],
   "source": [
    "print booster.report_times()"
   ]
  },
  {
   "cell_type": "code",
   "execution_count": 7,
   "metadata": {
    "collapsed": false
   },
   "outputs": [],
   "source": [
    "Scores=[]\n",
    "for i in range(10):\n",
    "    booster.boosting_iteration()\n",
    "    Scores.append(booster.compute_scores())"
   ]
  },
  {
   "cell_type": "code",
   "execution_count": 8,
   "metadata": {
    "collapsed": false
   },
   "outputs": [
    {
     "name": "stdout",
     "output_type": "stream",
     "text": [
      "  1.16 : Split into train and test\n",
      "  0.00 : glom\n",
      "  0.00 : add partition index\n",
      "  0.14 : Prepare_partition_data_structure\n",
      "  0.04 : Compute Split points\n",
      "  0.08 : Add_weak_learner_matrix\n",
      "  0.00 : Finished Initialization\n",
      "  0.10 : Start main loop 0\n",
      "  0.05 : found best splitter 0\n",
      "  0.06 : Updated Weights 0\n",
      "  0.00 : Start main loop 1\n",
      "  0.06 : found best splitter 1\n",
      "  0.05 : Updated Weights 1\n",
      "  0.00 : Start main loop 2\n",
      "  0.04 : found best splitter 2\n",
      "  0.06 : Updated Weights 2\n",
      "  0.00 : Start main loop 3\n",
      "  0.04 : found best splitter 3\n",
      "  0.06 : Updated Weights 3\n",
      "  0.00 : Start main loop 4\n",
      "  0.06 : found best splitter 4\n",
      "  0.06 : Updated Weights 4\n",
      "  0.00 : Start main loop 5\n",
      "  0.05 : found best splitter 5\n",
      "  0.07 : Updated Weights 5\n",
      "  0.00 : Start main loop 6\n",
      "  0.04 : found best splitter 6\n",
      "  0.06 : Updated Weights 6\n",
      "  0.00 : Start main loop 7\n",
      "  0.04 : found best splitter 7\n",
      "  0.05 : Updated Weights 7\n",
      "  0.00 : Start main loop 8\n",
      "  0.04 : found best splitter 8\n",
      "  0.06 : Updated Weights 8\n",
      "  0.00 : Start main loop 9\n",
      "  0.05 : found best splitter 9\n",
      "  0.05 : Updated Weights 9\n"
     ]
    }
   ],
   "source": [
    "print booster.report_times()"
   ]
  },
  {
   "cell_type": "code",
   "execution_count": 9,
   "metadata": {
    "collapsed": false
   },
   "outputs": [
    {
     "data": {
      "text/plain": [
       "[{'best feature': 1,\n",
       "  'details': [{'Correlation': 0.42857142857142855,\n",
       "    'Feature_index': 0,\n",
       "    'SS': array([ 0.42857143,  0.08571429,  0.08571429, -0.2       , -0.2       ,\n",
       "           -0.42857143, -0.37142857, -0.37142857, -0.42857143]),\n",
       "    'Threshold': 0.0,\n",
       "    'Threshold_index': 0},\n",
       "   {'Correlation': -0.70588235294117652,\n",
       "    'Feature_index': 1,\n",
       "    'SS': array([ 0.52941176,  0.29411765,  0.23529412,  0.        , -0.11764706,\n",
       "           -0.11764706, -0.29411765, -0.47058824, -0.70588235]),\n",
       "    'Threshold': 1.7976931348623157e+308,\n",
       "    'Threshold_index': 8,\n",
       "    'alpha': -0.87892895877618693}],\n",
       "  'iter ': 0},\n",
       " {'best feature': 0,\n",
       "  'details': [{'Correlation': -0.43132530120481921,\n",
       "    'Feature_index': 0,\n",
       "    'SS': array([-0.39759036, -0.42650602, -0.42650602, -0.4313253 , -0.4313253 ,\n",
       "           -0.29638554,  0.0746988 ,  0.0746988 ,  0.39759036]),\n",
       "    'Threshold': 2.0,\n",
       "    'Threshold_index': 3,\n",
       "    'alpha': -0.4615237571685174},\n",
       "   {'Correlation': 0.34482758620689663,\n",
       "    'Feature_index': 1,\n",
       "    'SS': array([ -1.03448276e-01,  -2.41379310e-01,  -1.10344828e-01,\n",
       "            -2.48275862e-01,   1.37931034e-02,   3.44827586e-01,\n",
       "             2.41379310e-01,   1.37931034e-01,   6.93889390e-17]),\n",
       "    'Threshold': 7.0,\n",
       "    'Threshold_index': 5}],\n",
       "  'iter ': 1},\n",
       " {'best feature': 1,\n",
       "  'details': [{'Correlation': -0.27267020487359489,\n",
       "    'Feature_index': 0,\n",
       "    'SS': array([-0.2726702 , -0.14475261, -0.14475261,  0.        ,  0.        ,\n",
       "           -0.05895109,  0.14923244,  0.14923244,  0.2726702 ]),\n",
       "    'Threshold': 0.0,\n",
       "    'Threshold_index': 0},\n",
       "   {'Correlation': -0.4313253012048191,\n",
       "    'Feature_index': 1,\n",
       "    'SS': array([ 0.28325717,  0.08583299,  0.10085584, -0.09656834, -0.06652264,\n",
       "            0.06223515, -0.08583299, -0.23390112, -0.4313253 ]),\n",
       "    'Threshold': 1.7976931348623157e+308,\n",
       "    'Threshold_index': 8,\n",
       "    'alpha': -0.46152375716851712}],\n",
       "  'iter ': 2},\n",
       " {'best feature': 0,\n",
       "  'details': [{'Correlation': -0.62991185149029061,\n",
       "    'Feature_index': 0,\n",
       "    'SS': array([-0.62991185, -0.37512623, -0.37512623, -0.11177442, -0.11177442,\n",
       "            0.00896521,  0.34099918,  0.34099918,  0.62991185]),\n",
       "    'Threshold': 0.0,\n",
       "    'Threshold_index': 0,\n",
       "    'alpha': -0.7412699985094684},\n",
       "   {'Correlation': 0.34482758620689646,\n",
       "    'Feature_index': 1,\n",
       "    'SS': array([ -1.03448276e-01,  -2.41379310e-01,  -1.10344828e-01,\n",
       "            -2.48275862e-01,   1.37931034e-02,   3.44827586e-01,\n",
       "             2.41379310e-01,   1.37931034e-01,  -2.35922393e-16]),\n",
       "    'Threshold': 7.0,\n",
       "    'Threshold_index': 5}],\n",
       "  'iter ': 3},\n",
       " {'best feature': 1,\n",
       "  'details': [{'Correlation': -0.11078925874702394,\n",
       "    'Feature_index': 0,\n",
       "    'SS': array([  1.52655666e-16,   3.10836091e-02,   3.10836091e-02,\n",
       "             8.53135501e-02,   8.53135501e-02,  -1.10789259e-01,\n",
       "             2.86351107e-03,   2.86351107e-03,  -1.52655666e-16]),\n",
       "    'Threshold': 3.0,\n",
       "    'Threshold_index': 5},\n",
       "   {'Correlation': -0.62991185149029061,\n",
       "    'Feature_index': 1,\n",
       "    'SS': array([ 0.46130028,  0.23648485,  0.19809477, -0.02672066, -0.10350083,\n",
       "           -0.06787328, -0.23648485, -0.40509642, -0.62991185]),\n",
       "    'Threshold': 1.7976931348623157e+308,\n",
       "    'Threshold_index': 8,\n",
       "    'alpha': -0.7412699985094684}],\n",
       "  'iter ': 4},\n",
       " {'best feature': 0,\n",
       "  'details': [{'Correlation': -0.6299118514902905,\n",
       "    'Feature_index': 0,\n",
       "    'SS': array([-0.62991185, -0.37512623, -0.37512623, -0.11177442, -0.11177442,\n",
       "            0.00896521,  0.34099918,  0.34099918,  0.62991185]),\n",
       "    'Threshold': 0.0,\n",
       "    'Threshold_index': 0,\n",
       "    'alpha': -0.74126999850946829},\n",
       "   {'Correlation': 0.34482758620689646,\n",
       "    'Feature_index': 1,\n",
       "    'SS': array([ -1.03448276e-01,  -2.41379310e-01,  -1.10344828e-01,\n",
       "            -2.48275862e-01,   1.37931034e-02,   3.44827586e-01,\n",
       "             2.41379310e-01,   1.37931034e-01,  -2.35922393e-16]),\n",
       "    'Threshold': 7.0,\n",
       "    'Threshold_index': 5}],\n",
       "  'iter ': 5},\n",
       " {'best feature': 1,\n",
       "  'details': [{'Correlation': -0.11078925874702386,\n",
       "    'Feature_index': 0,\n",
       "    'SS': array([  8.32667268e-17,   3.10836091e-02,   3.10836091e-02,\n",
       "             8.53135501e-02,   8.53135501e-02,  -1.10789259e-01,\n",
       "             2.86351107e-03,   2.86351107e-03,  -8.32667268e-17]),\n",
       "    'Threshold': 3.0,\n",
       "    'Threshold_index': 5},\n",
       "   {'Correlation': -0.6299118514902905,\n",
       "    'Feature_index': 1,\n",
       "    'SS': array([ 0.46130028,  0.23648485,  0.19809477, -0.02672066, -0.10350083,\n",
       "           -0.06787328, -0.23648485, -0.40509642, -0.62991185]),\n",
       "    'Threshold': 1.7976931348623157e+308,\n",
       "    'Threshold_index': 8,\n",
       "    'alpha': -0.74126999850946829}],\n",
       "  'iter ': 6},\n",
       " {'best feature': 0,\n",
       "  'details': [{'Correlation': -0.6299118514902905,\n",
       "    'Feature_index': 0,\n",
       "    'SS': array([-0.62991185, -0.37512623, -0.37512623, -0.11177442, -0.11177442,\n",
       "            0.00896521,  0.34099918,  0.34099918,  0.62991185]),\n",
       "    'Threshold': 0.0,\n",
       "    'Threshold_index': 0,\n",
       "    'alpha': -0.74126999850946829},\n",
       "   {'Correlation': 0.34482758620689646,\n",
       "    'Feature_index': 1,\n",
       "    'SS': array([ -1.03448276e-01,  -2.41379310e-01,  -1.10344828e-01,\n",
       "            -2.48275862e-01,   1.37931034e-02,   3.44827586e-01,\n",
       "             2.41379310e-01,   1.37931034e-01,  -2.35922393e-16]),\n",
       "    'Threshold': 7.0,\n",
       "    'Threshold_index': 5}],\n",
       "  'iter ': 7},\n",
       " {'best feature': 1,\n",
       "  'details': [{'Correlation': -0.11078925874702386,\n",
       "    'Feature_index': 0,\n",
       "    'SS': array([  1.45716772e-16,   3.10836091e-02,   3.10836091e-02,\n",
       "             8.53135501e-02,   8.53135501e-02,  -1.10789259e-01,\n",
       "             2.86351107e-03,   2.86351107e-03,  -1.45716772e-16]),\n",
       "    'Threshold': 3.0,\n",
       "    'Threshold_index': 5},\n",
       "   {'Correlation': -0.6299118514902905,\n",
       "    'Feature_index': 1,\n",
       "    'SS': array([ 0.46130028,  0.23648485,  0.19809477, -0.02672066, -0.10350083,\n",
       "           -0.06787328, -0.23648485, -0.40509642, -0.62991185]),\n",
       "    'Threshold': 1.7976931348623157e+308,\n",
       "    'Threshold_index': 8,\n",
       "    'alpha': -0.74126999850946829}],\n",
       "  'iter ': 8},\n",
       " {'best feature': 0,\n",
       "  'details': [{'Correlation': -0.6299118514902905,\n",
       "    'Feature_index': 0,\n",
       "    'SS': array([-0.62991185, -0.37512623, -0.37512623, -0.11177442, -0.11177442,\n",
       "            0.00896521,  0.34099918,  0.34099918,  0.62991185]),\n",
       "    'Threshold': 0.0,\n",
       "    'Threshold_index': 0,\n",
       "    'alpha': -0.74126999850946829},\n",
       "   {'Correlation': 0.34482758620689646,\n",
       "    'Feature_index': 1,\n",
       "    'SS': array([ -1.03448276e-01,  -2.41379310e-01,  -1.10344828e-01,\n",
       "            -2.48275862e-01,   1.37931034e-02,   3.44827586e-01,\n",
       "             2.41379310e-01,   1.37931034e-01,  -2.35922393e-16]),\n",
       "    'Threshold': 7.0,\n",
       "    'Threshold_index': 5}],\n",
       "  'iter ': 9}]"
      ]
     },
     "execution_count": 9,
     "metadata": {},
     "output_type": "execute_result"
    }
   ],
   "source": [
    "booster.proposals"
   ]
  },
  {
   "cell_type": "code",
   "execution_count": null,
   "metadata": {
    "collapsed": true
   },
   "outputs": [],
   "source": []
  },
  {
   "cell_type": "code",
   "execution_count": null,
   "metadata": {
    "collapsed": true
   },
   "outputs": [],
   "source": []
  }
 ],
 "metadata": {
  "kernelspec": {
   "display_name": "Python 2",
   "language": "python",
   "name": "python2"
  },
  "language_info": {
   "codemirror_mode": {
    "name": "ipython",
    "version": 2
   },
   "file_extension": ".py",
   "mimetype": "text/x-python",
   "name": "python",
   "nbconvert_exporter": "python",
   "pygments_lexer": "ipython2",
   "version": "2.7.11"
  }
 },
 "nbformat": 4,
 "nbformat_minor": 0
}
