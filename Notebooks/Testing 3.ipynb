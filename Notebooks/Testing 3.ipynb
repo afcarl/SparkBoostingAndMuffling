{
 "cells": [
  {
   "cell_type": "code",
   "execution_count": 1,
   "metadata": {
    "collapsed": false
   },
   "outputs": [
    {
     "name": "stdout",
     "output_type": "stream",
     "text": [
      "Populating the interactive namespace from numpy and matplotlib\n"
     ]
    }
   ],
   "source": [
    "from pyspark.mllib.linalg import Vectors\n",
    "from pyspark.mllib.regression import LabeledPoint\n",
    "\n",
    "from pyspark.mllib.tree import GradientBoostedTrees, GradientBoostedTreesModel\n",
    "from pyspark.mllib.tree import RandomForest, RandomForestModel\n",
    "\n",
    "from pyspark.mllib.util import MLUtils\n",
    "\n",
    "%pylab inline\n",
    "\n",
    "import numpy as np\n",
    "from time import time\n",
    "\n",
    "import sys,os,pickle\n",
    "sys.path.insert(0, os.path.abspath('../src'))\n",
    "\n",
    "from BoostStumps import *"
   ]
  },
  {
   "cell_type": "code",
   "execution_count": 2,
   "metadata": {
    "collapsed": false
   },
   "outputs": [
    {
     "name": "stdout",
     "output_type": "stream",
     "text": [
      "    0  1  2  3  4  5  6  7  8  9 \n",
      " 0  0  0  0  0  0  0  0  0  0  0 \n",
      " 1  0  0  0  0  1  1  1  0  0  0 \n",
      " 2  0  0  0  0  1  1  1  0  0  0 \n",
      " 3  0  0  0  0  1  1  1  0  0  0 \n",
      " 4  0  0  0  0  0  0  0  0  0  0 \n",
      " 5  0  0  0  0  0  0  0  0  0  0 \n",
      " 6  0  0  0  0  0  0  0  0  0  0 \n",
      " 7  0  0  0  0  0  0  0  0  0  0 \n",
      " 8  0  0  0  0  0  0  0  0  0  0 \n",
      " 9  0  0  0  0  0  0  0  0  0  0 \n"
     ]
    }
   ],
   "source": [
    "from pyspark import SparkContext\n",
    "\n",
    "#sc=SparkContext()\n",
    "\n",
    "from numpy.random import rand\n",
    "p=1\n",
    "data=[]\n",
    "size=10\n",
    "print '   '+''.join([\"%2.0f \"%i for i in range(size)])\n",
    "for i in range(size):\n",
    "    print \"%2.0f \"%i,\n",
    "    for j in range(size):\n",
    "        if np.abs(i-size/4)<size/5 and np.abs(j-size/2)<size/5:\n",
    "            y=2*(rand()<p)-1\n",
    "        else:\n",
    "            y=2*(rand()>p)-1\n",
    "        print \"%1.0f \"%((1+y)/2),\n",
    "        data.append(LabeledPoint(y,[i,j]))\n",
    "    print"
   ]
  },
  {
   "cell_type": "raw",
   "metadata": {},
   "source": [
    "from pyspark import SparkContext\n",
    "\n",
    "#sc=SparkContext()\n",
    "\n",
    "from numpy.random import rand\n",
    "p=0.9\n",
    "data=[]\n",
    "size=100\n",
    "print ''.join([\"%2.0f \"%i for i in range(size)])\n",
    "print '',\n",
    "for j in range(size):\n",
    "    if np.abs(j-size/4)<size/10:\n",
    "        y=2*(rand()<p)-1\n",
    "    else:\n",
    "        y=2*(rand()>p)-1\n",
    "    print \"%1.0f \"%((1+y)/2),\n",
    "    data.append(LabeledPoint(y,[j]))"
   ]
  },
  {
   "cell_type": "code",
   "execution_count": 3,
   "metadata": {
    "collapsed": false
   },
   "outputs": [
    {
     "data": {
      "text/plain": [
       "2"
      ]
     },
     "execution_count": 3,
     "metadata": {},
     "output_type": "execute_result"
    }
   ],
   "source": [
    "dataRDD=sc.parallelize(data,numSlices=2)\n",
    "dataRDD.getNumPartitions()"
   ]
  },
  {
   "cell_type": "raw",
   "metadata": {
    "collapsed": false
   },
   "source": [
    "# booster currently works only for binary data, choose label of interest\n",
    "Label=2\n",
    "dataRDD = sc.textFile(\"../data/covtype.data\")\\\n",
    "            .map(lambda line: [float(x.strip()) for x in line.split(',')])\\\n",
    "            .map(lambda line: LabeledPoint(1*(line[-1]==Label),line[:-1])).cache()\n",
    "#dataRDD = dataRDD.sample(False,0.1, seed=255).cache()\n",
    "dataRDD.first()"
   ]
  },
  {
   "cell_type": "code",
   "execution_count": 4,
   "metadata": {
    "collapsed": false
   },
   "outputs": [
    {
     "data": {
      "text/plain": [
       "<pyspark.context.SparkContext at 0x106df8ed0>"
      ]
     },
     "execution_count": 4,
     "metadata": {},
     "output_type": "execute_result"
    }
   ],
   "source": [
    "sc"
   ]
  },
  {
   "cell_type": "code",
   "execution_count": 6,
   "metadata": {
    "collapsed": false,
    "scrolled": true
   },
   "outputs": [
    {
     "name": "stdout",
     "output_type": "stream",
     "text": [
      "number of features= 2 number of partitions= 2\n",
      "Sizes: Data1=100, trainingData=66, testData=34\n",
      "number of elements in GR= 2\n",
      "number of elements in GTR= 2\n",
      "GR no of partitions 2\n",
      "number of partitions in PS= 2\n"
     ]
    }
   ],
   "source": [
    "booster=Booster(sc,dataRDD,no_of_bins=20)"
   ]
  },
  {
   "cell_type": "code",
   "execution_count": 7,
   "metadata": {
    "collapsed": false
   },
   "outputs": [],
   "source": [
    "#print booster.report_times()"
   ]
  },
  {
   "cell_type": "code",
   "execution_count": 8,
   "metadata": {
    "collapsed": false
   },
   "outputs": [
    {
     "name": "stdout",
     "output_type": "stream",
     "text": [
      "Training Error: 0  ,iteration:  0  ,split index:  1   ,gamma:  0.5  ,bound:  0.606530659713\n",
      "Training Error: 0  ,iteration:  1  ,split index:  0   ,gamma:  0.5  ,bound:  0.367879441171\n",
      "Training Error: 0  ,iteration:  2  ,split index:  0   ,gamma:  0.5  ,bound:  0.223130160148\n",
      "Training Error: 0  ,iteration:  3  ,split index:  0   ,gamma:  0.5  ,bound:  0.135335283237\n",
      "Training Error: 0  ,iteration:  4  ,split index:  0   ,gamma:  0.5  ,bound:  0.0820849986239\n",
      "Training Error: 0  ,iteration:  5  ,split index:  0   ,gamma:  0.5  ,bound:  0.0497870683679\n",
      "Training Error: 0  ,iteration:  6  ,split index:  0   ,gamma:  0.5  ,bound:  0.0301973834223\n",
      "Training Error: 0  ,iteration:  7  ,split index:  0   ,gamma:  0.5  ,bound:  0.0183156388887\n",
      "Training Error: 0  ,iteration:  8  ,split index:  0   ,gamma:  0.5  ,bound:  0.0111089965382\n",
      "Training Error: 0  ,iteration:  9  ,split index:  0   ,gamma:  0.5  ,bound:  0.00673794699909\n"
     ]
    }
   ],
   "source": [
    "Scores=[]\n",
    "for i in range(10):\n",
    "    booster.boosting_iteration()\n",
    "    Scores.append(booster.compute_scores())"
   ]
  },
  {
   "cell_type": "code",
   "execution_count": 50,
   "metadata": {
    "collapsed": false
   },
   "outputs": [],
   "source": [
    "#print booster.report_times()"
   ]
  },
  {
   "cell_type": "code",
   "execution_count": 51,
   "metadata": {
    "collapsed": true
   },
   "outputs": [
    {
     "name": "stdout",
     "output_type": "stream",
     "text": [
      "-------------------------------------------------- 0 1\n",
      "1 {'SS': array([ 1.        ,  1.        ,  0.67741935,  0.48387097,  0.48387097,\n",
      "        0.29032258,  0.16129032,  0.16129032, -0.09677419, -0.29032258,\n",
      "       -0.29032258, -0.5483871 , -0.5483871 , -0.74193548, -0.87096774, -1.        ]), 'Correlation': 1.0, 'Threshold': 0.0, 'alpha': inf, 'Feature_index': 1, 'Threshold_index': 0}\n",
      "-------------------------------------------------- 1 0\n",
      "corr of prev best nan\n",
      "0 {'SS': array([ nan,  nan,  nan,  nan,  nan,  nan,  nan,  nan,  nan,  nan,  nan,\n",
      "        nan,  nan,  nan,  nan,  nan,  nan]), 'Correlation': nan, 'Threshold': 0.0, 'alpha': nan, 'Feature_index': 0, 'Threshold_index': 0}\n",
      "-------------------------------------------------- 2 0\n",
      "corr of prev best nan\n",
      "0 {'SS': array([ nan,  nan,  nan,  nan,  nan,  nan,  nan,  nan,  nan,  nan,  nan,\n",
      "        nan,  nan,  nan,  nan,  nan,  nan]), 'Correlation': nan, 'Threshold': 0.0, 'alpha': nan, 'Feature_index': 0, 'Threshold_index': 0}\n",
      "-------------------------------------------------- 3 0\n",
      "corr of prev best nan\n",
      "0 {'SS': array([ nan,  nan,  nan,  nan,  nan,  nan,  nan,  nan,  nan,  nan,  nan,\n",
      "        nan,  nan,  nan,  nan,  nan,  nan]), 'Correlation': nan, 'Threshold': 0.0, 'alpha': nan, 'Feature_index': 0, 'Threshold_index': 0}\n",
      "-------------------------------------------------- 4 0\n",
      "corr of prev best nan\n",
      "0 {'SS': array([ nan,  nan,  nan,  nan,  nan,  nan,  nan,  nan,  nan,  nan,  nan,\n",
      "        nan,  nan,  nan,  nan,  nan,  nan]), 'Correlation': nan, 'Threshold': 0.0, 'alpha': nan, 'Feature_index': 0, 'Threshold_index': 0}\n",
      "-------------------------------------------------- 5 0\n",
      "corr of prev best nan\n",
      "0 {'SS': array([ nan,  nan,  nan,  nan,  nan,  nan,  nan,  nan,  nan,  nan,  nan,\n",
      "        nan,  nan,  nan,  nan,  nan,  nan]), 'Correlation': nan, 'Threshold': 0.0, 'alpha': nan, 'Feature_index': 0, 'Threshold_index': 0}\n",
      "-------------------------------------------------- 6 0\n",
      "corr of prev best nan\n",
      "0 {'SS': array([ nan,  nan,  nan,  nan,  nan,  nan,  nan,  nan,  nan,  nan,  nan,\n",
      "        nan,  nan,  nan,  nan,  nan,  nan]), 'Correlation': nan, 'Threshold': 0.0, 'alpha': nan, 'Feature_index': 0, 'Threshold_index': 0}\n",
      "-------------------------------------------------- 7 0\n",
      "corr of prev best nan\n",
      "0 {'SS': array([ nan,  nan,  nan,  nan,  nan,  nan,  nan,  nan,  nan,  nan,  nan,\n",
      "        nan,  nan,  nan,  nan,  nan,  nan]), 'Correlation': nan, 'Threshold': 0.0, 'alpha': nan, 'Feature_index': 0, 'Threshold_index': 0}\n",
      "-------------------------------------------------- 8 0\n",
      "corr of prev best nan\n",
      "0 {'SS': array([ nan,  nan,  nan,  nan,  nan,  nan,  nan,  nan,  nan,  nan,  nan,\n",
      "        nan,  nan,  nan,  nan,  nan,  nan]), 'Correlation': nan, 'Threshold': 0.0, 'alpha': nan, 'Feature_index': 0, 'Threshold_index': 0}\n",
      "-------------------------------------------------- 9 0\n",
      "corr of prev best nan\n",
      "0 {'SS': array([ nan,  nan,  nan,  nan,  nan,  nan,  nan,  nan,  nan,  nan,  nan,\n",
      "        nan,  nan,  nan,  nan,  nan,  nan]), 'Correlation': nan, 'Threshold': 0.0, 'alpha': nan, 'Feature_index': 0, 'Threshold_index': 0}\n"
     ]
    }
   ],
   "source": [
    "prev_best=-1\n",
    "for i in range(len(booster.proposals)):\n",
    "    iteration_data=booster.proposals[i]\n",
    "    best_feature=iteration_data['best feature']\n",
    "    print '-'*50,i,best_feature\n",
    "    if prev_best>-1:\n",
    "        print 'corr of prev best',iteration_data['details'][prev_best]['SS'][prev_best_threshold_index]\n",
    "    print best_feature,iteration_data['details'][best_feature]\n",
    "    prev_best=best_feature\n",
    "    prev_best_threshold_index=iteration_data['details'][prev_best]['Threshold_index']"
   ]
  },
  {
   "cell_type": "code",
   "execution_count": null,
   "metadata": {
    "collapsed": true
   },
   "outputs": [],
   "source": [
    "print booster.proposals"
   ]
  },
  {
   "cell_type": "code",
   "execution_count": 52,
   "metadata": {
    "collapsed": false
   },
   "outputs": [
    {
     "data": {
      "text/plain": [
       "[{'Correlation': 1.0,\n",
       "  'Feature_index': 1,\n",
       "  'SS': array([ 1.        ,  1.        ,  0.67741935,  0.48387097,  0.48387097,\n",
       "          0.29032258,  0.16129032,  0.16129032, -0.09677419, -0.29032258,\n",
       "         -0.29032258, -0.5483871 , -0.5483871 , -0.74193548, -0.87096774, -1.        ]),\n",
       "  'Threshold': 0.0,\n",
       "  'Threshold_index': 0,\n",
       "  'alpha': inf},\n",
       " {'Correlation': nan,\n",
       "  'Feature_index': 0,\n",
       "  'SS': array([ nan,  nan,  nan,  nan,  nan,  nan,  nan,  nan,  nan,  nan,  nan,\n",
       "          nan,  nan,  nan,  nan,  nan,  nan]),\n",
       "  'Threshold': 0.0,\n",
       "  'Threshold_index': 0,\n",
       "  'alpha': nan},\n",
       " {'Correlation': nan,\n",
       "  'Feature_index': 0,\n",
       "  'SS': array([ nan,  nan,  nan,  nan,  nan,  nan,  nan,  nan,  nan,  nan,  nan,\n",
       "          nan,  nan,  nan,  nan,  nan,  nan]),\n",
       "  'Threshold': 0.0,\n",
       "  'Threshold_index': 0,\n",
       "  'alpha': nan},\n",
       " {'Correlation': nan,\n",
       "  'Feature_index': 0,\n",
       "  'SS': array([ nan,  nan,  nan,  nan,  nan,  nan,  nan,  nan,  nan,  nan,  nan,\n",
       "          nan,  nan,  nan,  nan,  nan,  nan]),\n",
       "  'Threshold': 0.0,\n",
       "  'Threshold_index': 0,\n",
       "  'alpha': nan},\n",
       " {'Correlation': nan,\n",
       "  'Feature_index': 0,\n",
       "  'SS': array([ nan,  nan,  nan,  nan,  nan,  nan,  nan,  nan,  nan,  nan,  nan,\n",
       "          nan,  nan,  nan,  nan,  nan,  nan]),\n",
       "  'Threshold': 0.0,\n",
       "  'Threshold_index': 0,\n",
       "  'alpha': nan},\n",
       " {'Correlation': nan,\n",
       "  'Feature_index': 0,\n",
       "  'SS': array([ nan,  nan,  nan,  nan,  nan,  nan,  nan,  nan,  nan,  nan,  nan,\n",
       "          nan,  nan,  nan,  nan,  nan,  nan]),\n",
       "  'Threshold': 0.0,\n",
       "  'Threshold_index': 0,\n",
       "  'alpha': nan},\n",
       " {'Correlation': nan,\n",
       "  'Feature_index': 0,\n",
       "  'SS': array([ nan,  nan,  nan,  nan,  nan,  nan,  nan,  nan,  nan,  nan,  nan,\n",
       "          nan,  nan,  nan,  nan,  nan,  nan]),\n",
       "  'Threshold': 0.0,\n",
       "  'Threshold_index': 0,\n",
       "  'alpha': nan},\n",
       " {'Correlation': nan,\n",
       "  'Feature_index': 0,\n",
       "  'SS': array([ nan,  nan,  nan,  nan,  nan,  nan,  nan,  nan,  nan,  nan,  nan,\n",
       "          nan,  nan,  nan,  nan,  nan,  nan]),\n",
       "  'Threshold': 0.0,\n",
       "  'Threshold_index': 0,\n",
       "  'alpha': nan},\n",
       " {'Correlation': nan,\n",
       "  'Feature_index': 0,\n",
       "  'SS': array([ nan,  nan,  nan,  nan,  nan,  nan,  nan,  nan,  nan,  nan,  nan,\n",
       "          nan,  nan,  nan,  nan,  nan,  nan]),\n",
       "  'Threshold': 0.0,\n",
       "  'Threshold_index': 0,\n",
       "  'alpha': nan},\n",
       " {'Correlation': nan,\n",
       "  'Feature_index': 0,\n",
       "  'SS': array([ nan,  nan,  nan,  nan,  nan,  nan,  nan,  nan,  nan,  nan,  nan,\n",
       "          nan,  nan,  nan,  nan,  nan,  nan]),\n",
       "  'Threshold': 0.0,\n",
       "  'Threshold_index': 0,\n",
       "  'alpha': nan}]"
      ]
     },
     "execution_count": 52,
     "metadata": {},
     "output_type": "execute_result"
    }
   ],
   "source": [
    "booster.Strong_Classifier"
   ]
  },
  {
   "cell_type": "code",
   "execution_count": 56,
   "metadata": {
    "collapsed": false
   },
   "outputs": [
    {
     "data": {
      "text/plain": [
       "10"
      ]
     },
     "execution_count": 56,
     "metadata": {},
     "output_type": "execute_result"
    }
   ],
   "source": [
    "trainScores=[]\n",
    "for train,test in Scores:\n",
    "    trainScores.append(train.flatMap(lambda A:list(A)).collect())\n",
    "len(trainScores)"
   ]
  },
  {
   "cell_type": "code",
   "execution_count": 57,
   "metadata": {
    "collapsed": false
   },
   "outputs": [
    {
     "data": {
      "text/plain": [
       "(10, 65)"
      ]
     },
     "execution_count": 57,
     "metadata": {},
     "output_type": "execute_result"
    }
   ],
   "source": [
    "scoresArray=np.stack(trainScores)\n",
    "shape(scoresArray)"
   ]
  },
  {
   "cell_type": "code",
   "execution_count": 55,
   "metadata": {
    "collapsed": false
   },
   "outputs": [
    {
     "data": {
      "image/png": "[encoded data removed]",
      "text/plain": [
       "<matplotlib.figure.Figure at 0x10a43a250>"
      ]
     },
     "metadata": {},
     "output_type": "display_data"
    }
   ],
   "source": [
    "plot(scoresArray);"
   ]
  },
  {
   "cell_type": "code",
   "execution_count": 43,
   "metadata": {
    "collapsed": false
   },
   "outputs": [
    {
     "data": {
      "image/png": "[encoded data removed]",
      "text/plain": [
       "<matplotlib.figure.Figure at 0x10a338c10>"
      ]
     },
     "metadata": {},
     "output_type": "display_data"
    }
   ],
   "source": [
    "hist(scoresArray[9,:]);"
   ]
  },
  {
   "cell_type": "code",
   "execution_count": 9,
   "metadata": {
    "collapsed": false
   },
   "outputs": [
    {
     "name": "stdout",
     "output_type": "stream",
     "text": [
      "BoostStumps.py   BoostStumps.pyc  \u001b[34mMuffled-Learning\u001b[m\u001b[m \u001b[34mdocs\u001b[m\u001b[m\r\n"
     ]
    }
   ],
   "source": [
    "!ls ../src/"
   ]
  },
  {
   "cell_type": "code",
   "execution_count": null,
   "metadata": {
    "collapsed": true
   },
   "outputs": [],
   "source": [
    "# %load ../src/BoostStumps.py\n",
    "from pyspark.mllib.linalg import Vectors\n",
    "from pyspark.mllib.regression import LabeledPoint\n",
    "\n",
    "from pyspark.mllib.tree import GradientBoostedTrees, GradientBoostedTreesModel\n",
    "from pyspark.mllib.tree import RandomForest, RandomForestModel\n",
    "\n",
    "from pyspark.mllib.util import MLUtils\n",
    "\n",
    "import math\n",
    "import numpy as np\n",
    "from numpy.random import rand\n",
    "\n",
    "from time import time\n",
    "\n",
    "from pyspark import SparkContext\n",
    "\n",
    "\n",
    "class Timer:\n",
    "    \"\"\"A simple service class to log run time and pretty-print it.\n",
    "    \"\"\"\n",
    "    def __init__(self):\n",
    "        self.T=[]\n",
    "    def stamp(self,name):\n",
    "        self.T.append((name,time()))\n",
    "    def str(self):\n",
    "        T=self.T\n",
    "        return '\\n'.join(['%6.2f : %s'%(T[i+1][1]-T[i][1],T[i+1][0]) for i in range(len(T)-1)])\n",
    "\n",
    "class Booster:\n",
    "\n",
    "#######################################################################\n",
    "\n",
    "    def __init__(self,sc,Data,no_of_bins=10):\n",
    "        \"\"\" Given an RDD with labeled Points, create the RDD of data structures used for boosting\n",
    "\n",
    "        :param sc: SparkContext\n",
    "        :param Data: The input RDD\n",
    "\n",
    "        :creates: the self data structures used for boosting :\n",
    "                  T: timestamps\n",
    "                  GR:  RDD for training set\n",
    "                  GTR: RDD for test set\n",
    "                  PS: an array of training set RDDs, one per boosting iteration.\n",
    "                  Splits: A list of numpy arrays, holding the split points\n",
    "                  Strong_Classifier: A list of weak classifiers.\n",
    "        \"\"\"\n",
    "        self.sc=sc \n",
    "        self.T=Timer()\n",
    "        self.T.stamp('Started')\n",
    "\n",
    "        X=Data.first()\n",
    "        self.feature_no=len(X.features)\n",
    "        feature_no=self.feature_no\n",
    "        partition_no=Data.getNumPartitions()\n",
    "        if partition_no != self.feature_no:\n",
    "            Data=Data.repartition(feature_no).cache()\n",
    "        print 'number of features=',self.feature_no,'number of partitions=',Data.getNumPartitions()\n",
    "\n",
    "        self.iteration=0\n",
    "\n",
    "        # Split data into training and test\n",
    "        (trainingData,testData)=Data.randomSplit([0.7,0.3])\n",
    "        print 'Sizes: Data1=%d, trainingData=%d, testData=%d'%\\\n",
    "            (Data.count(),trainingData.cache().count(),testData.cache().count())\n",
    "        self.T.stamp('Split into train and test')\n",
    "        # Glom each partition into a local array\n",
    "        G=trainingData.glom()\n",
    "        GTest=testData.glom()  \n",
    "        self.T.stamp('glom')\n",
    "\n",
    "        # Add an index to each partition to identify it.\n",
    "        def f(splitIndex, iterator): yield splitIndex,iterator.next()\n",
    "        GI=G.mapPartitionsWithIndex(f) # RDD containing training data (glomed and indexed)\n",
    "        GTI=GTest.mapPartitionsWithIndex(f) #  RDD containing test data (glomed and indexed)\n",
    "        self.T.stamp('add partition index')\n",
    "\n",
    "        self.Prepare_data_structure(GI,GTI)\n",
    "        self.find_splits(no_of_bins)\n",
    "        self.Add_Weak_structures()\n",
    "\n",
    "        self.Strong_Classifier=[]\n",
    "        self.proposals=[]\n",
    "        self.Training_Error=[] #added\n",
    "        self.gamma=[] #added\n",
    "        self.sum_gamma=0\n",
    "        self.T.stamp('Finished Initialization')\n",
    "\n",
    "    ######################################################################################\n",
    "\n",
    "    def report_times(self):\n",
    "        \"\"\"return a string reporting the time stamps, use with \"print\"\n",
    "\n",
    "        :returns: the time stamps\n",
    "        :rtype: a string\n",
    "\n",
    "        \"\"\"\n",
    "        return self.T.str()\n",
    "\n",
    "    ######################################################################################\n",
    "    def Prepare_data_structure(self,GI,GTI):\n",
    "        \"\"\" Create a data structure for each glomed partition \n",
    "\n",
    "        :param GI: Glomed training set RDD\n",
    "        :param GTI: Glomed test set RDD\n",
    "\n",
    "        :creates: self.GR: RDD for training set (will have weak matrix added)\n",
    "                  self.GTR: RDD for test set (will be used as is to compute test error).\n",
    "\n",
    "        \"\"\"\n",
    "        def Prepare_partition_data_structure(A):\n",
    "            \"\"\"\n",
    "            :param A: A glomed partition\n",
    "            :returns: A partition data structure (missing the weak matrix which is added later)\n",
    "\n",
    "                    'index':The partition index (used to differentiate btwn partitions)\n",
    "                    'labels': An array of labels (-1/+1) one for each example\n",
    "                    'weights': An array of weights. one for each example\n",
    "                    'feature_values': A matrix of feature values (shape is [feature_no,rows])\n",
    "\n",
    "            :rtype: dict\n",
    "\n",
    "            \"\"\"\n",
    "\n",
    "            rows=len(A[1])\n",
    "\n",
    "            columns=np.empty([feature_no,rows])\n",
    "            columns[:]=np.NaN\n",
    "            print 'Prepare_partition_data_structure',feature_no,np.shape(columns)\n",
    "\n",
    "            labels=np.empty(rows)\n",
    "            labels[:]=np.NaN\n",
    "\n",
    "            for j in range(rows):\n",
    "                LP=A[1][j]\n",
    "                labels[j]=LP.label\n",
    "                for i in range(feature_no):\n",
    "                    columns[i,j]=LP.features[i]\n",
    "            return {'index':A[0],\\\n",
    "                    'labels':labels,\\\n",
    "                    'weights':np.ones(len(labels)),\\\n",
    "                    'feature_values':columns}\n",
    "        #=========================================================================\n",
    "\n",
    "        feature_no=self.feature_no\n",
    "\n",
    "        # Prepare the train and test data structures for each partition.\n",
    "        self.GR=GI.map(Prepare_partition_data_structure)\n",
    "        self.GTR=GTI.map(Prepare_partition_data_structure)\n",
    "\n",
    "        print 'number of elements in GR=', self.GR.cache().count()\n",
    "        print 'number of elements in GTR=', self.GTR.cache().count()\n",
    "        self.T.stamp('Prepare_partition_data_structure')\n",
    "\n",
    "\n",
    "  \n",
    "    ##############################################################################\n",
    "    def find_splits(self,number_of_bins=10):\n",
    "        \"\"\"Compute the split points for each feature to create number_of_bins bins\n",
    "\n",
    "        :param number_of_bins: number of bins desired (default 10)\n",
    "        \n",
    "        :creates self.Splits: list of no_features numpy arrays, each\n",
    "                              containing the number_of_bins+1 split\n",
    "                              points (the last one is \"infinity\")\n",
    "        \"\"\"\n",
    "        def find_split_points(A):\n",
    "            \"\"\" A partition task: find the split points for a single feture whose index\n",
    "            is A['index']%feature_no\n",
    "\n",
    "            :param A: The partition data structure\n",
    "            :returns: (feature index, split points)\n",
    "            :rtype: tuple\n",
    "\n",
    "            \"\"\"\n",
    "            j=A['index'] % feature_no\n",
    "            S=np.sort(A['feature_values'][j,:])\n",
    "            L=len(S) \n",
    "            step=int(np.ceil(float(L)/number_of_bins))\n",
    "            return (j,S[range(step,L,step)])\n",
    "\n",
    "        #=========================================================================\n",
    "        #print 'no of bins', number_of_bins\n",
    "        GR=self.GR\n",
    "        feature_no=self.feature_no\n",
    "        partition_no=GR.getNumPartitions()\n",
    "        print 'GR no of partitions', partition_no\n",
    "        Splits=GR.map(find_split_points).collect()\n",
    "        #Splits=[]\n",
    "        #for A in GR.collect():\n",
    "        #    Splits.append(find_split_points(A))\n",
    "\n",
    "        max_no=np.array([np.finfo(float).max]) # max_no is the maximal value represented by a float\n",
    "\n",
    "        # Average the split points across the partitions corresponding to the same feature.\n",
    "        Splits1=[]\n",
    "        for i in range(feature_no):\n",
    "            S=Splits[i][1]\n",
    "            n=1  # number of copies (for averaging)\n",
    "            j=i+feature_no\n",
    "            while j<partition_no:\n",
    "                S+=Splits[j][1]\n",
    "                n+=1.0\n",
    "                j+=feature_no\n",
    "            Splits1.append(np.concatenate([S/n,max_no]))\n",
    "\n",
    "        self.Splits=Splits1   # store split points array in self.Splits\n",
    "        self.T.stamp('Compute Split points')\n",
    "\n",
    "    #############################################################\n",
    "    def Add_Weak_structures(self):\n",
    "        \"\"\"Create matrix for each partition to facilitate finding the weighted errors\n",
    "        of the weak rules using a single matrix multiplication\n",
    "        \"\"\"\n",
    "        def Add_weak_learner_matrix(A):\n",
    "            \"\"\" This procedure adds to the partition data structure the weak-rule error matrix\n",
    "\n",
    "            :param A: The partition data structure \n",
    "\n",
    "            :returns: input A with added field 'M'\n",
    "            :rtype: dict\n",
    "            \"\"\"\n",
    "\n",
    "            index=A['index']%feature_no\n",
    "            Splits=BC_Splits.value[index]\n",
    "\n",
    "            Col=A['feature_values'][index,:]\n",
    "\n",
    "            ### The matrix M is organized as follows: \n",
    "            # * There are as many rows as there are thresholds in Splits (last one is inf)\n",
    "            # * There are as many columns as there are examples in this partition.\n",
    "            # For threshold i, the i'th rw of M is +1 \n",
    "            #     if Col is smaller than the trehold Splits[i] and -1 otherwise\n",
    "\n",
    "            M=np.empty([len(Splits),len(Col)])\n",
    "            M[:]=np.NaN\n",
    "\n",
    "            for i in range(len(Splits)):\n",
    "                M[i,:]=2*(Col<Splits[i])-1\n",
    "\n",
    "            A['M']=M # add M matrix to the data structure.\n",
    "            return A\n",
    "        #=========================================================================\n",
    "\n",
    "        BC_Splits=self.sc.broadcast(self.Splits) #broadcast split points\n",
    "\n",
    "        feature_no=self.feature_no\n",
    "\n",
    "        self.PS=[None]\n",
    "        \n",
    "        self.PS[0]=self.GR.map(Add_weak_learner_matrix)\n",
    "        #L=[]\n",
    "        #for A in self.GR.collect():\n",
    "        #    L.append(Add_weak_learner_matrix(A))\n",
    "        #self.PS[0]=self.sc.parallelize(L)\n",
    "\n",
    "        print 'number of partitions in PS=',self.PS[0].cache().count()\n",
    "        self.T.stamp('Add_weak_learner_matrix')\n",
    "\n",
    "    #############################################################\n",
    "    def boosting_iteration(self):\n",
    "        \"\"\"perform one boosting iteration. Consisting of finding the lowest\n",
    "        error weak rule , adding it, and updating the weights\n",
    "\n",
    "        :updates: PS: appends a new RDD (all is the same other than the weight vector) to the end of the list\n",
    "                  \n",
    "        \"\"\"\n",
    "        def Find_weak(A):\n",
    "            \"\"\"Find the best split for a single feature on a single partition\n",
    "\n",
    "            :param A: Partition data structure\n",
    "\n",
    "            :returns: a dict describing the added weak classifier\n",
    "                    'Feature_index':   the index of the best feature\n",
    "                    'Threshold_index': the index of the best threshold (the split point)\n",
    "                    'Threshold':       the value of the best threshold \n",
    "                    'Correlation':     the weighted correlation of the best weak rule\n",
    "                    'SS':              the weighted correlations of all of the split points.\n",
    "            :rtype: dict\n",
    "            \"\"\"\n",
    "            index=A['index']%feature_no\n",
    "            Splits=BC_Splits.value[index]\n",
    "\n",
    "            M=A['M']\n",
    "            weights=A['weights']\n",
    "            weighted_Labels=weights*A['labels']\n",
    "            SS=np.dot(M,weighted_Labels)/np.sum(weights)\n",
    "            i_max=np.argmax(np.abs(SS))\n",
    "            return {'Feature_index':A['index']%feature_no,\\\n",
    "                    'Threshold_index':i_max,\\\n",
    "                    'Threshold':Splits[i_max],\\\n",
    "                    'Correlation':SS[i_max],\\\n",
    "                    'SS':SS\n",
    "                }\n",
    "\n",
    "        def update_weights(A):\n",
    "            \"\"\"Update the weights of the examples belonging to this partition\n",
    "\n",
    "            :param A: The partition data structure\n",
    "\n",
    "            :returns: A partition data structure with updated weights\n",
    "            :rtype: dict\n",
    "\n",
    "            \"\"\"\n",
    "            best_splitter=BC_best_splitter.value\n",
    "\n",
    "            F_index=best_splitter['Feature_index']\n",
    "            Thr=best_splitter['Threshold']\n",
    "            alpha=best_splitter['alpha']\n",
    "            y_hat=2*(A['feature_values'][F_index,:]<Thr)-1\n",
    "            y=A['labels']\n",
    "            weights=A['weights']*np.exp(-alpha*y_hat*y)\n",
    "            weights /= sum(weights)\n",
    "\n",
    "            A['weights']=weights\n",
    "            return A\n",
    "        \n",
    "        def find_Training_Error(A): ##added\n",
    "            #error=0\n",
    "            best_splitter=BC_best_splitter.value\n",
    "\n",
    "            F_index=best_splitter['Feature_index']\n",
    "            #print 'index' , F_index\n",
    "            Thr=best_splitter['Threshold']\n",
    "            #alpha=best_splitter['alpha']\n",
    "            y_hat=2*(A['feature_values'][F_index,:]<Thr)-1\n",
    "            y=A['labels']\n",
    "            weights=A['weights']\n",
    "            error=y_hat * y\n",
    "            error=(error * weights)/sum(weights)\n",
    "            error=error[error<0]\n",
    "            return -1*sum(error)\n",
    "            \n",
    "            \n",
    "            \n",
    "        #=========================================================================\n",
    "\n",
    "        i=self.iteration\n",
    "\n",
    "        self.T.stamp('Start main loop %d'%i)\n",
    "\n",
    "        feature_no=self.feature_no\n",
    "\n",
    "        BC_Splits = self.sc.broadcast(self.Splits)\n",
    "        prop=self.PS[i].map(Find_weak).collect()\n",
    "\n",
    "        corrs=[p['Correlation'] for p in prop]\n",
    "        best_splitter_index=np.argmax(np.abs(corrs))\n",
    "        best_splitter = prop[best_splitter_index]\n",
    "        self.proposals.append({'iter ':i,'best feature':best_splitter_index,'details':prop})\n",
    "\n",
    "        corr=best_splitter['Correlation']\n",
    "        best_splitter['alpha']=0.5*np.log((1+corr)/(1-corr))\n",
    "\n",
    "        BC_best_splitter=self.sc.broadcast(best_splitter)\n",
    "        self.Strong_Classifier.append(best_splitter)\n",
    "        '''\n",
    "        adict=self.PS[i].collect()\n",
    "        a1=adict[best_splitter_index]\n",
    "        if(best_splitter_index==0):\n",
    "            c=1\n",
    "        else:\n",
    "            c=0\n",
    "        a2=adict[c]\n",
    "        print type(adict), type(a1),type(a2)\n",
    "        weights1=a1['weights']\n",
    "        weights2=a2['weights']\n",
    "        wtest1=weights1[weights1<0]\n",
    "        wtest2=weights2[weights2<0]\n",
    "        #print 'weights1 ', len(weights1), 'weights_test ', len(wtest1) ,'weights2 ', len(weights2), 'weights_test 2', len(wtest2)\n",
    "        #print 'final ', len(weights1)+len(weights2)\n",
    "        #print 'sum ', sum(weights1)+sum(weights2)\n",
    "        '''\n",
    "        \n",
    "        E=self.PS[i].map(find_Training_Error).collect()\n",
    "        trainingError=E[best_splitter_index]\n",
    "        \n",
    "        gamma_t=0.5-trainingError\n",
    "        self.Training_Error.append(trainingError)\n",
    "        \n",
    "        self.gamma.append(gamma_t)\n",
    "        \n",
    "        expo = self.sum_gamma + (gamma_t ** 2)\n",
    "        self.sum_gamma=expo\n",
    "        \n",
    "        bound=math.exp(-2 * expo)\n",
    "        \n",
    "        #bound=0\n",
    "        print \"Training Error:\", trainingError, ' ,iteration: ', self.iteration , ' ,split index: ' , best_splitter_index, '  ,gamma: ',gamma_t, \" ,bound: \",bound\n",
    "        \n",
    "        BC_Strong_Classifier=self.sc.broadcast(self.Strong_Classifier)\n",
    "        self.T.stamp('found best splitter %d'%i)\n",
    "\n",
    "        newPS=self.PS[i].map(update_weights).cache()\n",
    "        #L=[]\n",
    "        #for A in self.PS[i].collect():\n",
    "        #    L.append(update_weights(A))\n",
    "        #newPS=self.sc.parallelize(L).cache()\n",
    "        newPS.count()\n",
    "        self.PS.append(newPS)\n",
    "        \n",
    "        \n",
    "        self.T.stamp('Updated Weights %d'%i)\n",
    "        self.iteration+=1\n",
    "\n",
    "\n",
    "    #############################################################\n",
    "    def compute_scores(self):\n",
    "\n",
    "        def calc_scores(Strong_Classifier,Columns,Lbl):\n",
    "\n",
    "            Scores=np.zeros(len(Lbl))\n",
    "\n",
    "            for h in Strong_Classifier:\n",
    "                index=h['Feature_index']\n",
    "                Thr=h['Threshold']\n",
    "                alpha=h['alpha']\n",
    "                y_hat=2*(Columns[index,:]<Thr)-1\n",
    "                Scores += alpha*y_hat*Lbl\n",
    "            return Scores\n",
    "\n",
    "        def get_scores(A):\n",
    "            Strong_Classifier=BC_Strong_Classifier.value\n",
    "            Scores = calc_scores(Strong_Classifier,A['feature_values'],A['labels'])\n",
    "            return Scores\n",
    "        #=========================================================================\n",
    "        \n",
    "        train_scores=self.GR.map(get_scores)\n",
    "        test_scores=self.GTR.map(get_scores)\n",
    "        return train_scores,test_scores\n",
    "\n",
    "\n",
    "###################################################################\n",
    "def generate_data(sc):\n",
    "    p=0.9\n",
    "    data=[]\n",
    "    for i in range(10):\n",
    "        for j in range(10):\n",
    "            if np.abs(i-4)<3 and np.abs(j-6)<3:\n",
    "                y=2*(rand()<p)-1\n",
    "            else:\n",
    "                y=2*(rand()>p)-1\n",
    "            print \"%1.0f \"%((1+y)/2),\n",
    "            data.append(LabeledPoint(y,[i,j]))\n",
    "        print\n",
    "\n",
    "\n",
    "    return sc.parallelize(data)\n",
    "    \n",
    "\n",
    "if __name__ == '__main__':\n",
    "    sc=SparkContext()\n",
    "    dataRDD = generate_data(sc)\n",
    "    booster=Booster(sc,dataRDD)\n",
    "    Scores=[]\n",
    "    for i in range(10):\n",
    "        booster.boosting_iteration()\n",
    "        Scores.append(booster.compute_scores())\n",
    "    \n",
    "\n",
    "\n"
   ]
  },
  {
   "cell_type": "code",
   "execution_count": null,
   "metadata": {
    "collapsed": true
   },
   "outputs": [],
   "source": []
  }
 ],
 "metadata": {
  "kernelspec": {
   "display_name": "Python 2",
   "language": "python",
   "name": "python2"
  },
  "language_info": {
   "codemirror_mode": {
    "name": "ipython",
    "version": 2
   },
   "file_extension": ".py",
   "mimetype": "text/x-python",
   "name": "python",
   "nbconvert_exporter": "python",
   "pygments_lexer": "ipython2",
   "version": "2.7.11"
  }
 },
 "nbformat": 4,
 "nbformat_minor": 0
}
