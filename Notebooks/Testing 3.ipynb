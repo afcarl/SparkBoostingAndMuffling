{
 "cells": [
  {
   "cell_type": "code",
   "execution_count": 1,
   "metadata": {
    "collapsed": false
   },
   "outputs": [
    {
     "name": "stdout",
     "output_type": "stream",
     "text": [
      "Populating the interactive namespace from numpy and matplotlib\n"
     ]
    }
   ],
   "source": [
    "from pyspark.mllib.linalg import Vectors\n",
    "from pyspark.mllib.regression import LabeledPoint\n",
    "\n",
    "from pyspark.mllib.tree import GradientBoostedTrees, GradientBoostedTreesModel\n",
    "from pyspark.mllib.tree import RandomForest, RandomForestModel\n",
    "\n",
    "from pyspark.mllib.util import MLUtils\n",
    "\n",
    "%pylab inline\n",
    "\n",
    "import numpy as np\n",
    "from time import time\n",
    "\n",
    "import sys,os,pickle\n",
    "sys.path.insert(0, os.path.abspath('../src'))\n",
    "\n",
    "from BoostStumps import *"
   ]
  },
  {
   "cell_type": "code",
   "execution_count": 44,
   "metadata": {
    "collapsed": false
   },
   "outputs": [
    {
     "name": "stdout",
     "output_type": "stream",
     "text": [
      "    0  1  2  3  4  5  6  7  8  9 \n",
      " 0  0  0  0  0  0  0  0  0  0  0 \n",
      " 1  0  0  0  0  1  1  1  0  0  0 \n",
      " 2  0  0  0  0  1  1  1  0  0  0 \n",
      " 3  0  0  0  0  1  1  1  0  0  0 \n",
      " 4  0  0  0  0  0  0  0  0  0  0 \n",
      " 5  0  0  0  0  0  0  0  0  0  0 \n",
      " 6  0  0  0  0  0  0  0  0  0  0 \n",
      " 7  0  0  0  0  0  0  0  0  0  0 \n",
      " 8  0  0  0  0  0  0  0  0  0  0 \n",
      " 9  0  0  0  0  0  0  0  0  0  0 \n"
     ]
    }
   ],
   "source": [
    "from pyspark import SparkContext\n",
    "\n",
    "#sc=SparkContext()\n",
    "\n",
    "from numpy.random import rand\n",
    "p=1\n",
    "data=[]\n",
    "size=10\n",
    "print '   '+''.join([\"%2.0f \"%i for i in range(size)])\n",
    "for i in range(size):\n",
    "    print \"%2.0f \"%i,\n",
    "    for j in range(size):\n",
    "        if np.abs(i-size/4)<size/5 and np.abs(j-size/2)<size/5:\n",
    "            y=2*(rand()<p)-1\n",
    "        else:\n",
    "            y=2*(rand()>p)-1\n",
    "        print \"%1.0f \"%((1+y)/2),\n",
    "        data.append(LabeledPoint(y,[i,j]))\n",
    "    print"
   ]
  },
  {
   "cell_type": "code",
   "execution_count": 58,
   "metadata": {
    "collapsed": false
   },
   "outputs": [
    {
     "data": {
      "text/plain": [
       "[LabeledPoint(-1.0, [0.0,0.0]),\n",
       " LabeledPoint(-1.0, [0.0,1.0]),\n",
       " LabeledPoint(-1.0, [0.0,2.0]),\n",
       " LabeledPoint(-1.0, [0.0,3.0]),\n",
       " LabeledPoint(-1.0, [0.0,4.0]),\n",
       " LabeledPoint(-1.0, [0.0,5.0]),\n",
       " LabeledPoint(-1.0, [0.0,6.0]),\n",
       " LabeledPoint(-1.0, [0.0,7.0]),\n",
       " LabeledPoint(-1.0, [0.0,8.0]),\n",
       " LabeledPoint(-1.0, [0.0,9.0]),\n",
       " LabeledPoint(-1.0, [1.0,0.0]),\n",
       " LabeledPoint(-1.0, [1.0,1.0]),\n",
       " LabeledPoint(-1.0, [1.0,2.0]),\n",
       " LabeledPoint(-1.0, [1.0,3.0]),\n",
       " LabeledPoint(1.0, [1.0,4.0]),\n",
       " LabeledPoint(1.0, [1.0,5.0]),\n",
       " LabeledPoint(1.0, [1.0,6.0]),\n",
       " LabeledPoint(-1.0, [1.0,7.0]),\n",
       " LabeledPoint(-1.0, [1.0,8.0]),\n",
       " LabeledPoint(-1.0, [1.0,9.0]),\n",
       " LabeledPoint(-1.0, [2.0,0.0]),\n",
       " LabeledPoint(-1.0, [2.0,1.0]),\n",
       " LabeledPoint(-1.0, [2.0,2.0]),\n",
       " LabeledPoint(-1.0, [2.0,3.0]),\n",
       " LabeledPoint(1.0, [2.0,4.0]),\n",
       " LabeledPoint(1.0, [2.0,5.0]),\n",
       " LabeledPoint(1.0, [2.0,6.0]),\n",
       " LabeledPoint(-1.0, [2.0,7.0]),\n",
       " LabeledPoint(-1.0, [2.0,8.0]),\n",
       " LabeledPoint(-1.0, [2.0,9.0]),\n",
       " LabeledPoint(-1.0, [3.0,0.0]),\n",
       " LabeledPoint(-1.0, [3.0,1.0]),\n",
       " LabeledPoint(-1.0, [3.0,2.0]),\n",
       " LabeledPoint(-1.0, [3.0,3.0]),\n",
       " LabeledPoint(1.0, [3.0,4.0]),\n",
       " LabeledPoint(1.0, [3.0,5.0]),\n",
       " LabeledPoint(1.0, [3.0,6.0]),\n",
       " LabeledPoint(-1.0, [3.0,7.0]),\n",
       " LabeledPoint(-1.0, [3.0,8.0]),\n",
       " LabeledPoint(-1.0, [3.0,9.0]),\n",
       " LabeledPoint(-1.0, [4.0,0.0]),\n",
       " LabeledPoint(-1.0, [4.0,1.0]),\n",
       " LabeledPoint(-1.0, [4.0,2.0]),\n",
       " LabeledPoint(-1.0, [4.0,3.0]),\n",
       " LabeledPoint(-1.0, [4.0,4.0]),\n",
       " LabeledPoint(-1.0, [4.0,5.0]),\n",
       " LabeledPoint(-1.0, [4.0,6.0]),\n",
       " LabeledPoint(-1.0, [4.0,7.0]),\n",
       " LabeledPoint(-1.0, [4.0,8.0]),\n",
       " LabeledPoint(-1.0, [4.0,9.0]),\n",
       " LabeledPoint(-1.0, [5.0,0.0]),\n",
       " LabeledPoint(-1.0, [5.0,1.0]),\n",
       " LabeledPoint(-1.0, [5.0,2.0]),\n",
       " LabeledPoint(-1.0, [5.0,3.0]),\n",
       " LabeledPoint(-1.0, [5.0,4.0]),\n",
       " LabeledPoint(-1.0, [5.0,5.0]),\n",
       " LabeledPoint(-1.0, [5.0,6.0]),\n",
       " LabeledPoint(-1.0, [5.0,7.0]),\n",
       " LabeledPoint(-1.0, [5.0,8.0]),\n",
       " LabeledPoint(-1.0, [5.0,9.0]),\n",
       " LabeledPoint(-1.0, [6.0,0.0]),\n",
       " LabeledPoint(-1.0, [6.0,1.0]),\n",
       " LabeledPoint(-1.0, [6.0,2.0]),\n",
       " LabeledPoint(-1.0, [6.0,3.0]),\n",
       " LabeledPoint(-1.0, [6.0,4.0]),\n",
       " LabeledPoint(-1.0, [6.0,5.0]),\n",
       " LabeledPoint(-1.0, [6.0,6.0]),\n",
       " LabeledPoint(-1.0, [6.0,7.0]),\n",
       " LabeledPoint(-1.0, [6.0,8.0]),\n",
       " LabeledPoint(-1.0, [6.0,9.0]),\n",
       " LabeledPoint(-1.0, [7.0,0.0]),\n",
       " LabeledPoint(-1.0, [7.0,1.0]),\n",
       " LabeledPoint(-1.0, [7.0,2.0]),\n",
       " LabeledPoint(-1.0, [7.0,3.0]),\n",
       " LabeledPoint(-1.0, [7.0,4.0]),\n",
       " LabeledPoint(-1.0, [7.0,5.0]),\n",
       " LabeledPoint(-1.0, [7.0,6.0]),\n",
       " LabeledPoint(-1.0, [7.0,7.0]),\n",
       " LabeledPoint(-1.0, [7.0,8.0]),\n",
       " LabeledPoint(-1.0, [7.0,9.0]),\n",
       " LabeledPoint(-1.0, [8.0,0.0]),\n",
       " LabeledPoint(-1.0, [8.0,1.0]),\n",
       " LabeledPoint(-1.0, [8.0,2.0]),\n",
       " LabeledPoint(-1.0, [8.0,3.0]),\n",
       " LabeledPoint(-1.0, [8.0,4.0]),\n",
       " LabeledPoint(-1.0, [8.0,5.0]),\n",
       " LabeledPoint(-1.0, [8.0,6.0]),\n",
       " LabeledPoint(-1.0, [8.0,7.0]),\n",
       " LabeledPoint(-1.0, [8.0,8.0]),\n",
       " LabeledPoint(-1.0, [8.0,9.0]),\n",
       " LabeledPoint(-1.0, [9.0,0.0]),\n",
       " LabeledPoint(-1.0, [9.0,1.0]),\n",
       " LabeledPoint(-1.0, [9.0,2.0]),\n",
       " LabeledPoint(-1.0, [9.0,3.0]),\n",
       " LabeledPoint(-1.0, [9.0,4.0]),\n",
       " LabeledPoint(-1.0, [9.0,5.0]),\n",
       " LabeledPoint(-1.0, [9.0,6.0]),\n",
       " LabeledPoint(-1.0, [9.0,7.0]),\n",
       " LabeledPoint(-1.0, [9.0,8.0]),\n",
       " LabeledPoint(-1.0, [9.0,9.0])]"
      ]
     },
     "execution_count": 58,
     "metadata": {},
     "output_type": "execute_result"
    }
   ],
   "source": [
    "data"
   ]
  },
  {
   "cell_type": "raw",
   "metadata": {},
   "source": [
    "from pyspark import SparkContext\n",
    "\n",
    "#sc=SparkContext()\n",
    "\n",
    "from numpy.random import rand\n",
    "p=0.9\n",
    "data=[]\n",
    "size=100\n",
    "print ''.join([\"%2.0f \"%i for i in range(size)])\n",
    "print '',\n",
    "for j in range(size):\n",
    "    if np.abs(j-size/4)<size/10:\n",
    "        y=2*(rand()<p)-1\n",
    "    else:\n",
    "        y=2*(rand()>p)-1\n",
    "    print \"%1.0f \"%((1+y)/2),\n",
    "    data.append(LabeledPoint(y,[j]))"
   ]
  },
  {
   "cell_type": "code",
   "execution_count": 45,
   "metadata": {
    "collapsed": false
   },
   "outputs": [
    {
     "data": {
      "text/plain": [
       "2"
      ]
     },
     "execution_count": 45,
     "metadata": {},
     "output_type": "execute_result"
    }
   ],
   "source": [
    "dataRDD=sc.parallelize(data,numSlices=2)\n",
    "dataRDD.getNumPartitions()"
   ]
  },
  {
   "cell_type": "raw",
   "metadata": {
    "collapsed": false
   },
   "source": [
    "# booster currently works only for binary data, choose label of interest\n",
    "Label=2\n",
    "dataRDD = sc.textFile(\"../data/covtype.data\")\\\n",
    "            .map(lambda line: [float(x.strip()) for x in line.split(',')])\\\n",
    "            .map(lambda line: LabeledPoint(1*(line[-1]==Label),line[:-1])).cache()\n",
    "#dataRDD = dataRDD.sample(False,0.1, seed=255).cache()\n",
    "dataRDD.first()"
   ]
  },
  {
   "cell_type": "code",
   "execution_count": 46,
   "metadata": {
    "collapsed": false
   },
   "outputs": [
    {
     "data": {
      "text/plain": [
       "<pyspark.context.SparkContext at 0x106ceddd0>"
      ]
     },
     "execution_count": 46,
     "metadata": {},
     "output_type": "execute_result"
    }
   ],
   "source": [
    "sc"
   ]
  },
  {
   "cell_type": "code",
   "execution_count": 47,
   "metadata": {
    "collapsed": false
   },
   "outputs": [
    {
     "name": "stdout",
     "output_type": "stream",
     "text": [
      "label counts in data: [(-1.0, 91), (1.0, 9)]\n",
      "number of features= 2 number of partitions= 2\n",
      "Sizes: Data=100, trainingData=65, testData=35\n",
      "number of elements in GR= 2\n",
      "number of elements in GTR= 2\n",
      "number of partitions in PS= 2\n"
     ]
    }
   ],
   "source": [
    "booster=Booster(sc,dataRDD,no_of_bins=20)"
   ]
  },
  {
   "cell_type": "code",
   "execution_count": 48,
   "metadata": {
    "collapsed": false
   },
   "outputs": [],
   "source": [
    "#print booster.report_times()"
   ]
  },
  {
   "cell_type": "code",
   "execution_count": 49,
   "metadata": {
    "collapsed": false
   },
   "outputs": [
    {
     "name": "stdout",
     "output_type": "stream",
     "text": [
      "(0.076923076923076927, 0.11428571428571428)\n",
      "(0.0, 0.0)\n",
      "(0.0, 0.0)\n",
      "(0.0, 0.0)\n",
      "(0.0, 0.0)\n",
      "(0.0, 0.0)\n",
      "(0.0, 0.0)\n",
      "(0.0, 0.0)\n",
      "(0.0, 0.0)\n",
      "(0.0, 0.0)\n"
     ]
    }
   ],
   "source": [
    "Scores=[]\n",
    "for i in range(10):\n",
    "    booster.boosting_iteration()\n",
    "    print booster.compute_errors()\n",
    "    Scores.append(booster.compute_margins())"
   ]
  },
  {
   "cell_type": "code",
   "execution_count": 50,
   "metadata": {
    "collapsed": false
   },
   "outputs": [],
   "source": [
    "#print booster.report_times()"
   ]
  },
  {
   "cell_type": "code",
   "execution_count": 51,
   "metadata": {
    "collapsed": true
   },
   "outputs": [
    {
     "name": "stdout",
     "output_type": "stream",
     "text": [
      "-------------------------------------------------- 0 1\n",
      "1 {'SS': array([ 1.        ,  1.        ,  0.67741935,  0.48387097,  0.48387097,\n",
      "        0.29032258,  0.16129032,  0.16129032, -0.09677419, -0.29032258,\n",
      "       -0.29032258, -0.5483871 , -0.5483871 , -0.74193548, -0.87096774, -1.        ]), 'Correlation': 1.0, 'Threshold': 0.0, 'alpha': inf, 'Feature_index': 1, 'Threshold_index': 0}\n",
      "-------------------------------------------------- 1 0\n",
      "corr of prev best nan\n",
      "0 {'SS': array([ nan,  nan,  nan,  nan,  nan,  nan,  nan,  nan,  nan,  nan,  nan,\n",
      "        nan,  nan,  nan,  nan,  nan,  nan]), 'Correlation': nan, 'Threshold': 0.0, 'alpha': nan, 'Feature_index': 0, 'Threshold_index': 0}\n",
      "-------------------------------------------------- 2 0\n",
      "corr of prev best nan\n",
      "0 {'SS': array([ nan,  nan,  nan,  nan,  nan,  nan,  nan,  nan,  nan,  nan,  nan,\n",
      "        nan,  nan,  nan,  nan,  nan,  nan]), 'Correlation': nan, 'Threshold': 0.0, 'alpha': nan, 'Feature_index': 0, 'Threshold_index': 0}\n",
      "-------------------------------------------------- 3 0\n",
      "corr of prev best nan\n",
      "0 {'SS': array([ nan,  nan,  nan,  nan,  nan,  nan,  nan,  nan,  nan,  nan,  nan,\n",
      "        nan,  nan,  nan,  nan,  nan,  nan]), 'Correlation': nan, 'Threshold': 0.0, 'alpha': nan, 'Feature_index': 0, 'Threshold_index': 0}\n",
      "-------------------------------------------------- 4 0\n",
      "corr of prev best nan\n",
      "0 {'SS': array([ nan,  nan,  nan,  nan,  nan,  nan,  nan,  nan,  nan,  nan,  nan,\n",
      "        nan,  nan,  nan,  nan,  nan,  nan]), 'Correlation': nan, 'Threshold': 0.0, 'alpha': nan, 'Feature_index': 0, 'Threshold_index': 0}\n",
      "-------------------------------------------------- 5 0\n",
      "corr of prev best nan\n",
      "0 {'SS': array([ nan,  nan,  nan,  nan,  nan,  nan,  nan,  nan,  nan,  nan,  nan,\n",
      "        nan,  nan,  nan,  nan,  nan,  nan]), 'Correlation': nan, 'Threshold': 0.0, 'alpha': nan, 'Feature_index': 0, 'Threshold_index': 0}\n",
      "-------------------------------------------------- 6 0\n",
      "corr of prev best nan\n",
      "0 {'SS': array([ nan,  nan,  nan,  nan,  nan,  nan,  nan,  nan,  nan,  nan,  nan,\n",
      "        nan,  nan,  nan,  nan,  nan,  nan]), 'Correlation': nan, 'Threshold': 0.0, 'alpha': nan, 'Feature_index': 0, 'Threshold_index': 0}\n",
      "-------------------------------------------------- 7 0\n",
      "corr of prev best nan\n",
      "0 {'SS': array([ nan,  nan,  nan,  nan,  nan,  nan,  nan,  nan,  nan,  nan,  nan,\n",
      "        nan,  nan,  nan,  nan,  nan,  nan]), 'Correlation': nan, 'Threshold': 0.0, 'alpha': nan, 'Feature_index': 0, 'Threshold_index': 0}\n",
      "-------------------------------------------------- 8 0\n",
      "corr of prev best nan\n",
      "0 {'SS': array([ nan,  nan,  nan,  nan,  nan,  nan,  nan,  nan,  nan,  nan,  nan,\n",
      "        nan,  nan,  nan,  nan,  nan,  nan]), 'Correlation': nan, 'Threshold': 0.0, 'alpha': nan, 'Feature_index': 0, 'Threshold_index': 0}\n",
      "-------------------------------------------------- 9 0\n",
      "corr of prev best nan\n",
      "0 {'SS': array([ nan,  nan,  nan,  nan,  nan,  nan,  nan,  nan,  nan,  nan,  nan,\n",
      "        nan,  nan,  nan,  nan,  nan,  nan]), 'Correlation': nan, 'Threshold': 0.0, 'alpha': nan, 'Feature_index': 0, 'Threshold_index': 0}\n"
     ]
    }
   ],
   "source": [
    "prev_best=-1\n",
    "for i in range(len(booster.proposals)):\n",
    "    iteration_data=booster.proposals[i]\n",
    "    best_feature=iteration_data['best feature']\n",
    "    print '-'*50,i,best_feature\n",
    "    if prev_best>-1:\n",
    "        print 'corr of prev best',iteration_data['details'][prev_best]['SS'][prev_best_threshold_index]\n",
    "    print best_feature,iteration_data['details'][best_feature]\n",
    "    prev_best=best_feature\n",
    "    prev_best_threshold_index=iteration_data['details'][prev_best]['Threshold_index']"
   ]
  },
  {
   "cell_type": "code",
   "execution_count": null,
   "metadata": {
    "collapsed": true
   },
   "outputs": [],
   "source": [
    "print booster.proposals"
   ]
  },
  {
   "cell_type": "code",
   "execution_count": 52,
   "metadata": {
    "collapsed": false
   },
   "outputs": [
    {
     "data": {
      "text/plain": [
       "[{'Correlation': 1.0,\n",
       "  'Feature_index': 1,\n",
       "  'SS': array([ 1.        ,  1.        ,  0.67741935,  0.48387097,  0.48387097,\n",
       "          0.29032258,  0.16129032,  0.16129032, -0.09677419, -0.29032258,\n",
       "         -0.29032258, -0.5483871 , -0.5483871 , -0.74193548, -0.87096774, -1.        ]),\n",
       "  'Threshold': 0.0,\n",
       "  'Threshold_index': 0,\n",
       "  'alpha': inf},\n",
       " {'Correlation': nan,\n",
       "  'Feature_index': 0,\n",
       "  'SS': array([ nan,  nan,  nan,  nan,  nan,  nan,  nan,  nan,  nan,  nan,  nan,\n",
       "          nan,  nan,  nan,  nan,  nan,  nan]),\n",
       "  'Threshold': 0.0,\n",
       "  'Threshold_index': 0,\n",
       "  'alpha': nan},\n",
       " {'Correlation': nan,\n",
       "  'Feature_index': 0,\n",
       "  'SS': array([ nan,  nan,  nan,  nan,  nan,  nan,  nan,  nan,  nan,  nan,  nan,\n",
       "          nan,  nan,  nan,  nan,  nan,  nan]),\n",
       "  'Threshold': 0.0,\n",
       "  'Threshold_index': 0,\n",
       "  'alpha': nan},\n",
       " {'Correlation': nan,\n",
       "  'Feature_index': 0,\n",
       "  'SS': array([ nan,  nan,  nan,  nan,  nan,  nan,  nan,  nan,  nan,  nan,  nan,\n",
       "          nan,  nan,  nan,  nan,  nan,  nan]),\n",
       "  'Threshold': 0.0,\n",
       "  'Threshold_index': 0,\n",
       "  'alpha': nan},\n",
       " {'Correlation': nan,\n",
       "  'Feature_index': 0,\n",
       "  'SS': array([ nan,  nan,  nan,  nan,  nan,  nan,  nan,  nan,  nan,  nan,  nan,\n",
       "          nan,  nan,  nan,  nan,  nan,  nan]),\n",
       "  'Threshold': 0.0,\n",
       "  'Threshold_index': 0,\n",
       "  'alpha': nan},\n",
       " {'Correlation': nan,\n",
       "  'Feature_index': 0,\n",
       "  'SS': array([ nan,  nan,  nan,  nan,  nan,  nan,  nan,  nan,  nan,  nan,  nan,\n",
       "          nan,  nan,  nan,  nan,  nan,  nan]),\n",
       "  'Threshold': 0.0,\n",
       "  'Threshold_index': 0,\n",
       "  'alpha': nan},\n",
       " {'Correlation': nan,\n",
       "  'Feature_index': 0,\n",
       "  'SS': array([ nan,  nan,  nan,  nan,  nan,  nan,  nan,  nan,  nan,  nan,  nan,\n",
       "          nan,  nan,  nan,  nan,  nan,  nan]),\n",
       "  'Threshold': 0.0,\n",
       "  'Threshold_index': 0,\n",
       "  'alpha': nan},\n",
       " {'Correlation': nan,\n",
       "  'Feature_index': 0,\n",
       "  'SS': array([ nan,  nan,  nan,  nan,  nan,  nan,  nan,  nan,  nan,  nan,  nan,\n",
       "          nan,  nan,  nan,  nan,  nan,  nan]),\n",
       "  'Threshold': 0.0,\n",
       "  'Threshold_index': 0,\n",
       "  'alpha': nan},\n",
       " {'Correlation': nan,\n",
       "  'Feature_index': 0,\n",
       "  'SS': array([ nan,  nan,  nan,  nan,  nan,  nan,  nan,  nan,  nan,  nan,  nan,\n",
       "          nan,  nan,  nan,  nan,  nan,  nan]),\n",
       "  'Threshold': 0.0,\n",
       "  'Threshold_index': 0,\n",
       "  'alpha': nan},\n",
       " {'Correlation': nan,\n",
       "  'Feature_index': 0,\n",
       "  'SS': array([ nan,  nan,  nan,  nan,  nan,  nan,  nan,  nan,  nan,  nan,  nan,\n",
       "          nan,  nan,  nan,  nan,  nan,  nan]),\n",
       "  'Threshold': 0.0,\n",
       "  'Threshold_index': 0,\n",
       "  'alpha': nan}]"
      ]
     },
     "execution_count": 52,
     "metadata": {},
     "output_type": "execute_result"
    }
   ],
   "source": [
    "booster.Strong_Classifier"
   ]
  },
  {
   "cell_type": "code",
   "execution_count": 56,
   "metadata": {
    "collapsed": false
   },
   "outputs": [
    {
     "data": {
      "text/plain": [
       "10"
      ]
     },
     "execution_count": 56,
     "metadata": {},
     "output_type": "execute_result"
    }
   ],
   "source": [
    "trainScores=[]\n",
    "for train,test in Scores:\n",
    "    trainScores.append(train.flatMap(lambda A:list(A)).collect())\n",
    "len(trainScores)"
   ]
  },
  {
   "cell_type": "code",
   "execution_count": 57,
   "metadata": {
    "collapsed": false
   },
   "outputs": [
    {
     "data": {
      "text/plain": [
       "(10, 65)"
      ]
     },
     "execution_count": 57,
     "metadata": {},
     "output_type": "execute_result"
    }
   ],
   "source": [
    "scoresArray=np.stack(trainScores)\n",
    "shape(scoresArray)"
   ]
  },
  {
   "cell_type": "code",
   "execution_count": 55,
   "metadata": {
    "collapsed": false
   },
   "outputs": [
    {
     "data": {
      "image/png": "[encoded data removed]",
      "text/plain": [
       "<matplotlib.figure.Figure at 0x10a43a250>"
      ]
     },
     "metadata": {},
     "output_type": "display_data"
    }
   ],
   "source": [
    "plot(scoresArray);"
   ]
  },
  {
   "cell_type": "code",
   "execution_count": 43,
   "metadata": {
    "collapsed": false
   },
   "outputs": [
    {
     "data": {
      "image/png": "[encoded data removed]",
      "text/plain": [
       "<matplotlib.figure.Figure at 0x10a338c10>"
      ]
     },
     "metadata": {},
     "output_type": "display_data"
    }
   ],
   "source": [
    "hist(scoresArray[9,:]);"
   ]
  },
  {
   "cell_type": "code",
   "execution_count": null,
   "metadata": {
    "collapsed": true
   },
   "outputs": [],
   "source": []
  }
 ],
 "metadata": {
  "kernelspec": {
   "display_name": "Python 2",
   "language": "python",
   "name": "python2"
  },
  "language_info": {
   "codemirror_mode": {
    "name": "ipython",
    "version": 2
   },
   "file_extension": ".py",
   "mimetype": "text/x-python",
   "name": "python",
   "nbconvert_exporter": "python",
   "pygments_lexer": "ipython2",
   "version": "2.7.11+"
  }
 },
 "nbformat": 4,
 "nbformat_minor": 0
}
